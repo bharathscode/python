{
 "cells": [
  {
   "cell_type": "code",
   "execution_count": 4,
   "id": "b22c522f",
   "metadata": {},
   "outputs": [
    {
     "name": "stdout",
     "output_type": "stream",
     "text": [
      "9\n",
      "1\n",
      "16\n",
      "-4\n"
     ]
    }
   ],
   "source": [
    "##functions\n",
    "\n",
    "def test(a,b):\n",
    "    print(a+b)\n",
    "    print(a-b)\n",
    "\n",
    "test(5,4)\n",
    "\n",
    "test(6,10)"
   ]
  },
  {
   "cell_type": "code",
   "execution_count": 9,
   "id": "f02f7d7e",
   "metadata": {},
   "outputs": [
    {
     "name": "stdout",
     "output_type": "stream",
     "text": [
      "fname is sachin\n",
      "mname is ramesh\n",
      "lname is tendulkar\n"
     ]
    }
   ],
   "source": [
    "def test(fname=None,mname=None,lname=None):\n",
    "    print(\"fname is\",fname)\n",
    "    print(\"mname is\",mname)\n",
    "    print(\"lname is\",lname)\n",
    "test(\"sachin\",\"ramesh\",\"tendulkar\")\n",
    "    "
   ]
  },
  {
   "cell_type": "code",
   "execution_count": 7,
   "id": "4760a978",
   "metadata": {},
   "outputs": [
    {
     "name": "stdout",
     "output_type": "stream",
     "text": [
      "fname is ramesh\n",
      "mname is tendulkar\n",
      "lname is sachin\n"
     ]
    }
   ],
   "source": [
    "test(fname = \"ramesh\",mname=\"tendulkar\",lname=\"sachin\")"
   ]
  },
  {
   "cell_type": "code",
   "execution_count": 13,
   "id": "9075c1b2",
   "metadata": {},
   "outputs": [
    {
     "ename": "SyntaxError",
     "evalue": "non-default argument follows default argument (2203333363.py, line 1)",
     "output_type": "error",
     "traceback": [
      "\u001b[1;36m  File \u001b[1;32m\"C:\\Users\\bhara\\AppData\\Local\\Temp\\ipykernel_1704\\2203333363.py\"\u001b[1;36m, line \u001b[1;32m1\u001b[0m\n\u001b[1;33m    def test(fname=None,mname=None,lname):\u001b[0m\n\u001b[1;37m                                        ^\u001b[0m\n\u001b[1;31mSyntaxError\u001b[0m\u001b[1;31m:\u001b[0m non-default argument follows default argument\n"
     ]
    }
   ],
   "source": [
    "def test(fname=None,mname=None,lname):\n",
    "    print(\"fname is\",fname)\n",
    "    print(\"mname is\",mname)\n",
    "    print(\"lname is\",lname)\n",
    "test(\"sachin\",\"ramesh\",\"tendulkar\")\n",
    "\n",
    "    ##shows error coz non-default argument follows default argument"
   ]
  },
  {
   "cell_type": "code",
   "execution_count": 12,
   "id": "a5e64dd3",
   "metadata": {},
   "outputs": [
    {
     "ename": "SyntaxError",
     "evalue": "positional argument follows keyword argument (2570734176.py, line 1)",
     "output_type": "error",
     "traceback": [
      "\u001b[1;36m  File \u001b[1;32m\"C:\\Users\\bhara\\AppData\\Local\\Temp\\ipykernel_1704\\2570734176.py\"\u001b[1;36m, line \u001b[1;32m1\u001b[0m\n\u001b[1;33m    test(fname = \"ramesh\",\"tendulkar\",lname=\"sachin\")\u001b[0m\n\u001b[1;37m                                                    ^\u001b[0m\n\u001b[1;31mSyntaxError\u001b[0m\u001b[1;31m:\u001b[0m positional argument follows keyword argument\n"
     ]
    }
   ],
   "source": [
    "test(fname = \"ramesh\",\"tendulkar\",lname=\"sachin\")\n",
    "\n",
    "#shows error coz positional argument follows keyword argument\n"
   ]
  },
  {
   "cell_type": "code",
   "execution_count": 15,
   "id": "ae9cde8c",
   "metadata": {},
   "outputs": [
    {
     "name": "stdout",
     "output_type": "stream",
     "text": [
      "('dinesh', 'krishna', 'bharath')\n",
      "<class 'tuple'>\n",
      "dinesh\n"
     ]
    }
   ],
   "source": [
    "def test(*args):\n",
    "    print(args)\n",
    "    print(type(args))\n",
    "    print(args[0])\n",
    "test(\"dinesh\",\"krishna\",\"bharath\")    "
   ]
  },
  {
   "cell_type": "code",
   "execution_count": 24,
   "id": "cabbc3e2",
   "metadata": {},
   "outputs": [],
   "source": [
    "def test(**kwargs):\n",
    "    print(kwargs)\n",
    "    print(kwargs.get(\"name\"))\n"
   ]
  },
  {
   "cell_type": "code",
   "execution_count": 25,
   "id": "96c79c42",
   "metadata": {},
   "outputs": [
    {
     "name": "stdout",
     "output_type": "stream",
     "text": [
      "{'name': 'dinesh', 'age': '12', 'location': 'chennai'}\n",
      "dinesh\n"
     ]
    }
   ],
   "source": [
    "test(name = \"dinesh\",age=\"12\",location=\"chennai\")"
   ]
  },
  {
   "cell_type": "code",
   "execution_count": 26,
   "id": "16186f69",
   "metadata": {},
   "outputs": [
    {
     "name": "stdout",
     "output_type": "stream",
     "text": [
      "kohli\n",
      "sachin\n"
     ]
    }
   ],
   "source": [
    "a=\"sachin\"  ##global variable\n",
    "\n",
    "def test():\n",
    "    a=\"kohli\"  ## local variable\n",
    "    print(a)\n",
    "test()\n",
    "print(a)"
   ]
  },
  {
   "cell_type": "code",
   "execution_count": 34,
   "id": "1c57918a",
   "metadata": {},
   "outputs": [
    {
     "name": "stdout",
     "output_type": "stream",
     "text": [
      "sachin\n",
      "kohli\n"
     ]
    }
   ],
   "source": [
    "a=\"sachin\"\n",
    "\n",
    "def test():\n",
    "    a=\"kohli\"\n",
    "    return(a)\n",
    "\n",
    "print(a)\n",
    "a= test() ##for return\n",
    "print(a)"
   ]
  },
  {
   "cell_type": "code",
   "execution_count": 35,
   "id": "3adec5e6",
   "metadata": {},
   "outputs": [
    {
     "name": "stdout",
     "output_type": "stream",
     "text": [
      "kohli\n",
      "kohli\n"
     ]
    }
   ],
   "source": [
    "a=\"sachin\"\n",
    "\n",
    "def test():\n",
    "    global a\n",
    "    a=\"kohli\"\n",
    "    print(a)  ## to change a local variable into a global variable\n",
    "test()\n",
    "print(a)"
   ]
  },
  {
   "cell_type": "code",
   "execution_count": 5,
   "id": "84c02898",
   "metadata": {},
   "outputs": [
    {
     "name": "stdout",
     "output_type": "stream",
     "text": [
      "{'apple': 3, 'mango': 1, 'orange': 1}\n",
      "['apple', 'apple', 'apple']\n",
      "['mango', 'orange']\n"
     ]
    }
   ],
   "source": [
    "a =[\"apple\",\"mango\",\"orange\",\"apple\",\"apple\"]\n",
    "def test(a):\n",
    "    d={}\n",
    "    l1=[]\n",
    "    l2=[]\n",
    "    for i in a:\n",
    "        d[i]=a.count(i)\n",
    "        if a.count(i)>1:\n",
    "            l1.append(i)\n",
    "        else:\n",
    "            l2.append(i)\n",
    "    print(d)\n",
    "    return(l1,l2)\n",
    "op1,op2=test(a)\n",
    "print(op1)\n",
    "print(op2)\n",
    "     "
   ]
  },
  {
   "cell_type": "code",
   "execution_count": 25,
   "id": "e54d2ce2",
   "metadata": {},
   "outputs": [
    {
     "name": "stdout",
     "output_type": "stream",
     "text": [
      "{'name': 'bharath', 'age': '12', 'location': 'chennai', 'number_of_persons': '4'}\n"
     ]
    }
   ],
   "source": [
    "## name,age,location,no. of persons\n",
    "\n",
    "def test(**kwargs):\n",
    "    \n",
    "    \n",
    "    print(kwargs)\n",
    "    number_of_persons = kwargs.get(\"number_of_persons\")\n",
    "    if number_of_persons==4:\n",
    "        print(\"book 4s car\")\n",
    "        \n",
    "    elif number_of_persons==6:\n",
    "        print(\"book 6s car\")\n",
    "    elif number_of_persons==8:\n",
    "        print(\"book 8s car\")\n",
    "    \n",
    "    \n",
    "    \n",
    "    \n",
    "test(name=\"bharath\",age=\"12\",location=\"chennai\",number_of_persons=\"4\")\n",
    "\n",
    "\n"
   ]
  },
  {
   "cell_type": "code",
   "execution_count": 23,
   "id": "c36a0e1d",
   "metadata": {},
   "outputs": [],
   "source": [
    "def test(r,mode):\n",
    "    l=[] \n",
    "    if mode==\"even\":\n",
    "        remainder=0\n",
    "    elif mode==\"odd\":\n",
    "        remainder=1\n",
    "    for i in range(r):\n",
    "        if i % 2==remainder:\n",
    "            l.append(i)\n",
    "    return(l) \n",
    "\n"
   ]
  },
  {
   "cell_type": "code",
   "execution_count": 11,
   "id": "b3b5a7eb",
   "metadata": {},
   "outputs": [
    {
     "name": "stdout",
     "output_type": "stream",
     "text": [
      "[0, 2, 4, 6, 8]\n"
     ]
    }
   ],
   "source": [
    "a=test(10,\"even\")\n",
    "print(a)"
   ]
  },
  {
   "cell_type": "code",
   "execution_count": 2,
   "id": "7d300f51",
   "metadata": {},
   "outputs": [
    {
     "name": "stdout",
     "output_type": "stream",
     "text": [
      "['apple', 'apple', 'apple']\n"
     ]
    }
   ],
   "source": [
    "def fruits(a,mode):\n",
    "    d={}\n",
    "    l1=[]\n",
    "    l2=[]\n",
    "    if mode==\"count\":\n",
    "        for i in a:\n",
    "            d[i]=a.count(i)\n",
    "        return(d)\n",
    "    elif mode==\"duplicate\":\n",
    "        for i in a:\n",
    "            if a.count(i)>1:\n",
    "                l1.append(i)\n",
    "        return(l1)\n",
    "    elif mode==\"unique\":\n",
    "        for i in a:\n",
    "            if i in a:\n",
    "                if a.count(i)==1:\n",
    "                    l2.append(i)\n",
    "        return(l2)\n",
    "\n",
    "a=[\"apple\",\"mango\",\"orange\",\"apple\",\"apple\"]\n",
    "op=fruits(a,\"unique\")\n",
    "op=fruits(a,\"count\")\n",
    "op=fruits(a,\"duplicate\")\n",
    "print(op)"
   ]
  },
  {
   "cell_type": "code",
   "execution_count": null,
   "id": "16f84336",
   "metadata": {},
   "outputs": [],
   "source": []
  }
 ],
 "metadata": {
  "kernelspec": {
   "display_name": "Python 3 (ipykernel)",
   "language": "python",
   "name": "python3"
  },
  "language_info": {
   "codemirror_mode": {
    "name": "ipython",
    "version": 3
   },
   "file_extension": ".py",
   "mimetype": "text/x-python",
   "name": "python",
   "nbconvert_exporter": "python",
   "pygments_lexer": "ipython3",
   "version": "3.9.13"
  }
 },
 "nbformat": 4,
 "nbformat_minor": 5
}
