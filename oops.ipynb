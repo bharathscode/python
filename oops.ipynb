{
 "cells": [
  {
   "cell_type": "code",
   "execution_count": 1,
   "id": "5a31241c",
   "metadata": {},
   "outputs": [],
   "source": [
    "#inheritance"
   ]
  },
  {
   "cell_type": "code",
   "execution_count": 3,
   "id": "720b33b2",
   "metadata": {},
   "outputs": [],
   "source": [
    "class calc():\n",
    "    def add(self,a,b):\n",
    "        print(a+b)\n",
    "    def sub(self,a,b):\n",
    "        print(a-b)"
   ]
  },
  {
   "cell_type": "code",
   "execution_count": 5,
   "id": "693cb536",
   "metadata": {},
   "outputs": [
    {
     "name": "stdout",
     "output_type": "stream",
     "text": [
      "9\n",
      "2\n"
     ]
    }
   ],
   "source": [
    "a=calc()\n",
    "a.add(5,4)\n",
    "a.sub(6,4)"
   ]
  },
  {
   "cell_type": "code",
   "execution_count": 27,
   "id": "593629bf",
   "metadata": {},
   "outputs": [],
   "source": [
    "class calc1(calc):\n",
    "    def mul(self,a,b):\n",
    "        print(a*b)     ###t single inheritance"
   ]
  },
  {
   "cell_type": "code",
   "execution_count": 28,
   "id": "be5a37cb",
   "metadata": {},
   "outputs": [
    {
     "name": "stdout",
     "output_type": "stream",
     "text": [
      "9\n",
      "1\n",
      "2\n"
     ]
    }
   ],
   "source": [
    "b=calc1()\n",
    "b.add(5,4)\n",
    "b.sub(9,8)\n",
    "b.mul(2,1)"
   ]
  },
  {
   "cell_type": "code",
   "execution_count": 29,
   "id": "e4ee2206",
   "metadata": {},
   "outputs": [],
   "source": [
    "class calc():                  ### multilevel inheritance\n",
    "    def add(self,a,b):\n",
    "        print(a+b)\n",
    "    def sub(self,a,b):\n",
    "        print(a-b)\n",
    "\n",
    "class calc1(calc):\n",
    "    def mul(self,a,b):\n",
    "        print(a*b) \n",
    "\n",
    "class calc2(calc1):\n",
    "    def div(self,a,b):\n",
    "        print(a/b) \n"
   ]
  },
  {
   "cell_type": "code",
   "execution_count": 30,
   "id": "05771d0f",
   "metadata": {},
   "outputs": [
    {
     "name": "stdout",
     "output_type": "stream",
     "text": [
      "9\n",
      "1\n",
      "2\n",
      "2.0\n"
     ]
    }
   ],
   "source": [
    "x=calc2()\n",
    "x.add(5,4)\n",
    "x.sub(9,8)\n",
    "x.mul(2,1)\n",
    "x.div(2,1)"
   ]
  },
  {
   "cell_type": "code",
   "execution_count": 31,
   "id": "c3e57215",
   "metadata": {},
   "outputs": [],
   "source": [
    "class calc():                  ### multiple inheritance\n",
    "    def add(self,a,b):\n",
    "        print(a+b)\n",
    "    def sub(self,a,b):\n",
    "        print(a-b)\n",
    "\n",
    "class calc1():\n",
    "    def mul(self,a,b):\n",
    "        print(a*b) \n",
    "\n",
    "class calc2(calc1,calc):\n",
    "    def div(self,a,b):\n",
    "        print(a/b) "
   ]
  },
  {
   "cell_type": "code",
   "execution_count": 32,
   "id": "df40c7ca",
   "metadata": {},
   "outputs": [
    {
     "name": "stdout",
     "output_type": "stream",
     "text": [
      "9\n",
      "1\n",
      "2\n",
      "2.0\n"
     ]
    }
   ],
   "source": [
    "y=calc2()\n",
    "y.add(5,4)\n",
    "y.sub(9,8)\n",
    "y.mul(2,1)\n",
    "y.div(2,1)"
   ]
  },
  {
   "cell_type": "code",
   "execution_count": 33,
   "id": "8456b873",
   "metadata": {},
   "outputs": [],
   "source": [
    "class calc():                  ### hierarchial inheritance\n",
    "    def add(self,a,b):\n",
    "        print(a+b)\n",
    "    def sub(self,a,b):\n",
    "        print(a-b)\n",
    "\n",
    "class calc1(calc):\n",
    "    def mul(self,a,b):\n",
    "        print(a*b) \n",
    "\n",
    "class calc2(calc1,calc):\n",
    "    def div(self,a,b):\n",
    "        print(a/b) "
   ]
  },
  {
   "cell_type": "code",
   "execution_count": 26,
   "id": "574d7c95",
   "metadata": {},
   "outputs": [
    {
     "name": "stdout",
     "output_type": "stream",
     "text": [
      "9\n",
      "1\n",
      "2\n",
      "2.0\n"
     ]
    }
   ],
   "source": [
    "z=calc2()\n",
    "z.add(5,4)\n",
    "z.sub(9,8)\n",
    "z.mul(2,1)\n",
    "z.div(2,1)"
   ]
  },
  {
   "cell_type": "code",
   "execution_count": 48,
   "id": "ce419b1f",
   "metadata": {},
   "outputs": [],
   "source": [
    "class parent():\n",
    "    def __init__(self):\n",
    "        self.pname=\"parent\"\n",
    "        \n",
    "class child(parent):\n",
    "    def __init__(self):\n",
    "        super().__init__()\n",
    "        self.cname=\"child\"\n",
    "    def test(self):\n",
    "        print(\"dummy\")\n",
    "        \n",
    "class grand_child(child):\n",
    "     def __init__(self):\n",
    "        super().__init__() \n",
    "        self.gcname=\"gchild\""
   ]
  },
  {
   "cell_type": "code",
   "execution_count": 51,
   "id": "a3f06d31",
   "metadata": {},
   "outputs": [
    {
     "name": "stdout",
     "output_type": "stream",
     "text": [
      "child\n",
      "gchild\n"
     ]
    }
   ],
   "source": [
    "a=grand_child()\n",
    "print(a.cname)\n",
    "print(a.gcname)"
   ]
  },
  {
   "cell_type": "code",
   "execution_count": 5,
   "id": "e620dd8c",
   "metadata": {},
   "outputs": [],
   "source": [
    "class parent():\n",
    "    def __init__(self):         ##using multiple inheritance\n",
    "        self.pname=\"parent\"\n",
    "        \n",
    "class child():\n",
    "    def __init__(self):\n",
    "       \n",
    "        self.cname=\"child\"\n",
    "    def test(self):\n",
    "        print(\"dummy\")\n",
    "        \n",
    "class grand_child(child,parent):\n",
    "     def __init__(self):\n",
    "        super().__init__() #as constructor is used to remember only one key value this keyword is used to remember the value\n",
    "        super(parent,self).__init__()##as already the construcot is assigned with value here the 2nd class value is kept in mind  \n",
    "        self.gcname=\"gchild\""
   ]
  },
  {
   "cell_type": "code",
   "execution_count": 6,
   "id": "6c4df468",
   "metadata": {},
   "outputs": [
    {
     "name": "stdout",
     "output_type": "stream",
     "text": [
      "child\n",
      "gchild\n"
     ]
    }
   ],
   "source": [
    "a=grand_child()\n",
    "print(a.cname)\n",
    "print(a.gcname)"
   ]
  },
  {
   "cell_type": "code",
   "execution_count": null,
   "id": "f3896b7b",
   "metadata": {},
   "outputs": [],
   "source": []
  }
 ],
 "metadata": {
  "kernelspec": {
   "display_name": "Python 3 (ipykernel)",
   "language": "python",
   "name": "python3"
  },
  "language_info": {
   "codemirror_mode": {
    "name": "ipython",
    "version": 3
   },
   "file_extension": ".py",
   "mimetype": "text/x-python",
   "name": "python",
   "nbconvert_exporter": "python",
   "pygments_lexer": "ipython3",
   "version": "3.9.13"
  }
 },
 "nbformat": 4,
 "nbformat_minor": 5
}
