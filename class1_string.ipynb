{
 "cells": [
  {
   "cell_type": "code",
   "execution_count": 7,
   "id": "3dc400d8",
   "metadata": {},
   "outputs": [],
   "source": [
    "a = \"test\""
   ]
  },
  {
   "cell_type": "code",
   "execution_count": 8,
   "id": "aaec8ace",
   "metadata": {},
   "outputs": [],
   "source": [
    "#string"
   ]
  },
  {
   "cell_type": "code",
   "execution_count": 9,
   "id": "ad7e79b2",
   "metadata": {},
   "outputs": [
    {
     "name": "stdout",
     "output_type": "stream",
     "text": [
      "test\n"
     ]
    }
   ],
   "source": [
    "print(a)\n"
   ]
  },
  {
   "cell_type": "code",
   "execution_count": 10,
   "id": "471b579d",
   "metadata": {},
   "outputs": [
    {
     "name": "stdout",
     "output_type": "stream",
     "text": [
      "<class 'str'>\n"
     ]
    }
   ],
   "source": [
    "print(type(a))"
   ]
  },
  {
   "cell_type": "code",
   "execution_count": 19,
   "id": "b1e5e774",
   "metadata": {},
   "outputs": [
    {
     "name": "stdout",
     "output_type": "stream",
     "text": [
      "True\n"
     ]
    }
   ],
   "source": [
    "print(isinstance(a,str))#to check whether it is true or false"
   ]
  },
  {
   "cell_type": "code",
   "execution_count": 38,
   "id": "7c690f5b",
   "metadata": {},
   "outputs": [],
   "source": [
    "a=\"SachinTendulkar\""
   ]
  },
  {
   "cell_type": "code",
   "execution_count": 39,
   "id": "5b4adefe",
   "metadata": {},
   "outputs": [
    {
     "name": "stdout",
     "output_type": "stream",
     "text": [
      "SachinTendulkar\n"
     ]
    }
   ],
   "source": [
    "print(a)"
   ]
  },
  {
   "cell_type": "code",
   "execution_count": 23,
   "id": "6b2fe637",
   "metadata": {},
   "outputs": [
    {
     "name": "stdout",
     "output_type": "stream",
     "text": [
      "15\n"
     ]
    }
   ],
   "source": [
    "print(len(a))#to find the length of a string"
   ]
  },
  {
   "cell_type": "code",
   "execution_count": 24,
   "id": "efb94a12",
   "metadata": {},
   "outputs": [
    {
     "name": "stdout",
     "output_type": "stream",
     "text": [
      "['S', 'T', 'a', 'a', 'c', 'd', 'e', 'h', 'i', 'k', 'l', 'n', 'n', 'r', 'u']\n"
     ]
    }
   ],
   "source": [
    "print(sorted(a))#to sort the string"
   ]
  },
  {
   "cell_type": "code",
   "execution_count": 25,
   "id": "fef53e2c",
   "metadata": {},
   "outputs": [
    {
     "name": "stdout",
     "output_type": "stream",
     "text": [
      "S\n"
     ]
    }
   ],
   "source": [
    "print(min(a))#to find the minimum value of string"
   ]
  },
  {
   "cell_type": "code",
   "execution_count": 27,
   "id": "6fc086c8",
   "metadata": {},
   "outputs": [
    {
     "name": "stdout",
     "output_type": "stream",
     "text": [
      "u\n"
     ]
    }
   ],
   "source": [
    "print(max(a))#to find max value of a string"
   ]
  },
  {
   "cell_type": "code",
   "execution_count": 30,
   "id": "0b9b4fc4",
   "metadata": {},
   "outputs": [
    {
     "name": "stdout",
     "output_type": "stream",
     "text": [
      "SACHINTENDULKAR\n",
      "sachintendulkar\n",
      "sACHINtENDULKAR\n"
     ]
    }
   ],
   "source": [
    "print(a.upper())#to change the character to a upper case\n",
    "print(a.lower())#to change the character to a lower case\n",
    "print(a.swapcase())#to swap a case of a character"
   ]
  },
  {
   "cell_type": "code",
   "execution_count": 31,
   "id": "f484b489",
   "metadata": {},
   "outputs": [
    {
     "name": "stdout",
     "output_type": "stream",
     "text": [
      "False\n",
      "False\n",
      "False\n"
     ]
    }
   ],
   "source": [
    "print(a.isupper())#to check whether the character is a upper case\n",
    "print(a.islower())#to check whether the character is a lower case\n",
    "print(a.isdigit())#to check whether a number present in a character"
   ]
  },
  {
   "cell_type": "code",
   "execution_count": 40,
   "id": "28f39e17",
   "metadata": {},
   "outputs": [
    {
     "name": "stdout",
     "output_type": "stream",
     "text": [
      "True\n",
      "True\n"
     ]
    }
   ],
   "source": [
    "print(a.isalpha())#to check whether in a character\n",
    "print(a.isalnum())#to check whether in a character"
   ]
  },
  {
   "cell_type": "code",
   "execution_count": 41,
   "id": "5e170f89",
   "metadata": {},
   "outputs": [
    {
     "name": "stdout",
     "output_type": "stream",
     "text": [
      "e\n"
     ]
    }
   ],
   "source": [
    "print(a[7])#as e is the 7th index of sachintendulkar... 0 1 2 3 4 5 6 7 "
   ]
  },
  {
   "cell_type": "code",
   "execution_count": 43,
   "id": "4bae4ce0",
   "metadata": {},
   "outputs": [
    {
     "name": "stdout",
     "output_type": "stream",
     "text": [
      "Sachi\n",
      "SachinTendulkar\n",
      "r\n",
      "SciTnukr\n",
      "ShTdk\n",
      "rakludneTnihcaS\n"
     ]
    }
   ],
   "source": [
    "#python always starts a character with o ,1,2,3....\n",
    "#if we start from the last of a character to first letter we have to assume it  as  -1,-2,-3.. from last\n",
    "#start : end :interval\n",
    "\n",
    "print(a[0:5])#from 0 to 5 we can get the index value\n",
    "print(a[ : ])#as no index value is given it gives full strech of a character\n",
    "print(a[-1])#as for -1 -> r is the last term of sachintendulkar\n",
    "print(a[ ::2])#interval of a character is two..i.e two terms will be skipped in b/w\n",
    "print(a[ ::3])#interval of a character is 3\n",
    "print(a[ ::-1])#reversal of a string-> important question in placements"
   ]
  },
  {
   "cell_type": "code",
   "execution_count": 50,
   "id": "313d3344",
   "metadata": {},
   "outputs": [
    {
     "name": "stdout",
     "output_type": "stream",
     "text": [
      "0\n",
      "1\n",
      "13\n",
      "7\n",
      "0\n",
      "13\n"
     ]
    }
   ],
   "source": [
    "#to find the index value of a character\n",
    "\n",
    "print(a.index(\"S\"))#to find the index value of s\n",
    "print(a.index(\"a\"))#to find the index value of a\n",
    "print(a.index(\"a\",2))#as a is available in 1 index we have to find whether 2nd a is present\n",
    "print(a.index(\"e\",2,14))#to find the value of e \n",
    "\n",
    "#reversal of a index\n",
    "\n",
    "print(a.rindex(\"S\"))#to find the index value of s from reverse\n",
    "print(a.rindex(\"a\"))#to find the index value of a from reverse\n"
   ]
  },
  {
   "cell_type": "code",
   "execution_count": 10,
   "id": "dde1773e",
   "metadata": {},
   "outputs": [
    {
     "name": "stdout",
     "output_type": "stream",
     "text": [
      "-1\n"
     ]
    }
   ],
   "source": [
    "#to find \n",
    "a = \"SachinTendulkar\"\n",
    "print(a.find(\"z\"))#as z value is not present in the character it shows -1\n"
   ]
  },
  {
   "cell_type": "code",
   "execution_count": 11,
   "id": "8df51cff",
   "metadata": {},
   "outputs": [
    {
     "name": "stdout",
     "output_type": "stream",
     "text": [
      "2\n",
      "['S', 'chinTendulk', 'r']\n",
      "S$chinTendulk$r\n"
     ]
    }
   ],
   "source": [
    "print(a.count(\"a\"))#to count number of a present in sachintendulkar\n",
    "print(a.split(\"a\"))#to split the character wherever a is present\n",
    "print(a.replace(\"a\", \"$\"))#to replace a with $"
   ]
  },
  {
   "cell_type": "code",
   "execution_count": 14,
   "id": "3fcca5bc",
   "metadata": {},
   "outputs": [
    {
     "name": "stdout",
     "output_type": "stream",
     "text": [
      "['S', 'chinTendulkar']\n",
      "S$chinTendulkar\n"
     ]
    }
   ],
   "source": [
    "print(a.split(\"a\",1))#splitting the character only where a is present in the first index \n",
    "print(a.replace(\"a\" ,\"$\",1))#replacing character only where a is present in the 1st index"
   ]
  },
  {
   "cell_type": "code",
   "execution_count": null,
   "id": "39db8996",
   "metadata": {},
   "outputs": [],
   "source": []
  }
 ],
 "metadata": {
  "kernelspec": {
   "display_name": "Python 3 (ipykernel)",
   "language": "python",
   "name": "python3"
  },
  "language_info": {
   "codemirror_mode": {
    "name": "ipython",
    "version": 3
   },
   "file_extension": ".py",
   "mimetype": "text/x-python",
   "name": "python",
   "nbconvert_exporter": "python",
   "pygments_lexer": "ipython3",
   "version": "3.9.13"
  }
 },
 "nbformat": 4,
 "nbformat_minor": 5
}
