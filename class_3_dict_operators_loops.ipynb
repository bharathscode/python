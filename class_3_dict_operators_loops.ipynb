{
 "cells": [
  {
   "cell_type": "code",
   "execution_count": 1,
   "id": "ae4f6031",
   "metadata": {},
   "outputs": [],
   "source": [
    "##dictionary\n",
    "\n",
    "a={\"name\": \"kiran\" , \"location\" : \"chennai\" , \"age\":\"30\"}"
   ]
  },
  {
   "cell_type": "code",
   "execution_count": 2,
   "id": "1a7a38e6",
   "metadata": {},
   "outputs": [
    {
     "name": "stdout",
     "output_type": "stream",
     "text": [
      "<class 'dict'>\n"
     ]
    }
   ],
   "source": [
    "print(type(a))"
   ]
  },
  {
   "cell_type": "code",
   "execution_count": 6,
   "id": "402bb184",
   "metadata": {},
   "outputs": [
    {
     "name": "stdout",
     "output_type": "stream",
     "text": [
      "kiran\n"
     ]
    }
   ],
   "source": [
    "print(a.get(\"name\"))"
   ]
  },
  {
   "cell_type": "code",
   "execution_count": 8,
   "id": "d20519d5",
   "metadata": {},
   "outputs": [
    {
     "name": "stdout",
     "output_type": "stream",
     "text": [
      "None\n"
     ]
    }
   ],
   "source": [
    "print(a.get(\"addr\"))"
   ]
  },
  {
   "cell_type": "code",
   "execution_count": 10,
   "id": "80656d61",
   "metadata": {},
   "outputs": [
    {
     "name": "stdout",
     "output_type": "stream",
     "text": [
      "1\n"
     ]
    }
   ],
   "source": [
    "print(a.get(\"addr\",1))"
   ]
  },
  {
   "cell_type": "code",
   "execution_count": 11,
   "id": "a168c52d",
   "metadata": {},
   "outputs": [
    {
     "name": "stdout",
     "output_type": "stream",
     "text": [
      "dict_keys(['name', 'location', 'age'])\n",
      "dict_values(['kiran', 'chennai', '30'])\n",
      "dict_items([('name', 'kiran'), ('location', 'chennai'), ('age', '30')])\n"
     ]
    }
   ],
   "source": [
    "print(a.keys())\n",
    "print(a.values())\n",
    "print(a.items())"
   ]
  },
  {
   "cell_type": "code",
   "execution_count": 17,
   "id": "0c7a234b",
   "metadata": {},
   "outputs": [
    {
     "name": "stdout",
     "output_type": "stream",
     "text": [
      "{'name': 'kiran', 'location': 'chennai', 'age': '30', 'addr': 'annanagar'}\n"
     ]
    }
   ],
   "source": [
    "a[\"addr\"] = \"annanagar\"\n",
    "print(a)"
   ]
  },
  {
   "cell_type": "code",
   "execution_count": 18,
   "id": "3e32dbc6",
   "metadata": {},
   "outputs": [
    {
     "name": "stdout",
     "output_type": "stream",
     "text": [
      "{'name': 'kiran', 'location': 'chennai', 'age': '30'}\n"
     ]
    }
   ],
   "source": [
    "del a[\"addr\"]\n",
    "print(a)"
   ]
  },
  {
   "cell_type": "code",
   "execution_count": 19,
   "id": "1ae11bed",
   "metadata": {},
   "outputs": [],
   "source": [
    "\n",
    "##operators\n",
    "\n",
    "##arithmetic operators\n",
    "\n"
   ]
  },
  {
   "cell_type": "code",
   "execution_count": 21,
   "id": "74dd52af",
   "metadata": {},
   "outputs": [
    {
     "name": "stdout",
     "output_type": "stream",
     "text": [
      "7\n",
      "-3\n",
      "10\n",
      "32\n",
      "0.4\n",
      "0\n",
      "2\n"
     ]
    }
   ],
   "source": [
    "a=2\n",
    "b=5\n",
    "\n",
    "\n",
    "print(a+b)\n",
    "print(a-b)\n",
    "print(a*b)\n",
    "print(a**b)\n",
    "print(a/b)\n",
    "print(a//b)##florr division ##gives u quotient in a division\n",
    "print(a%b)##modulo  ## gives remainder in a division"
   ]
  },
  {
   "cell_type": "code",
   "execution_count": 22,
   "id": "a252f0b9",
   "metadata": {},
   "outputs": [],
   "source": [
    "##Assingnment operators\n",
    "\n",
    "##assigning a value to the variable is called assignment variable\n",
    "\n",
    "a=5\n",
    "b=5\n"
   ]
  },
  {
   "cell_type": "code",
   "execution_count": 24,
   "id": "165194e8",
   "metadata": {},
   "outputs": [
    {
     "name": "stdout",
     "output_type": "stream",
     "text": [
      "True\n",
      "False\n",
      "False\n",
      "False\n",
      "True\n",
      "True\n"
     ]
    }
   ],
   "source": [
    "##relational operator\n",
    "\n",
    "##checking the relationship of the given operator\n",
    "\n",
    "a=5\n",
    "b=5\n",
    "\n",
    "print(a==b)\n",
    "print(a!=b)\n",
    "print(a>b)\n",
    "print(a<b)\n",
    "print(a<=b)\n",
    "print(a>=b)"
   ]
  },
  {
   "cell_type": "code",
   "execution_count": 25,
   "id": "569c74cd",
   "metadata": {},
   "outputs": [
    {
     "name": "stdout",
     "output_type": "stream",
     "text": [
      "True\n",
      "False\n"
     ]
    }
   ],
   "source": [
    "##logical operators\n",
    "\n",
    "print(True and True)\n",
    "print(True and False)"
   ]
  },
  {
   "cell_type": "code",
   "execution_count": 26,
   "id": "01ce38f5",
   "metadata": {},
   "outputs": [
    {
     "name": "stdout",
     "output_type": "stream",
     "text": [
      "True\n",
      "True\n"
     ]
    }
   ],
   "source": [
    "print(True or True)\n",
    "print(True or False)"
   ]
  },
  {
   "cell_type": "code",
   "execution_count": 27,
   "id": "b9b5220d",
   "metadata": {},
   "outputs": [
    {
     "name": "stdout",
     "output_type": "stream",
     "text": [
      "False\n"
     ]
    }
   ],
   "source": [
    "print(not True)"
   ]
  },
  {
   "cell_type": "code",
   "execution_count": 29,
   "id": "df7a2aec",
   "metadata": {},
   "outputs": [
    {
     "name": "stdout",
     "output_type": "stream",
     "text": [
      "yes\n"
     ]
    }
   ],
   "source": [
    "##loops\n",
    "\n",
    "##if else loop\n",
    "\n",
    "name = \"bharath\"## assignment operator is used\n",
    "if name ==\"bharath\":##relational operator is used\n",
    "    print(\"yes\")\n",
    "else:\n",
    "    print(\"no\")\n"
   ]
  },
  {
   "cell_type": "markdown",
   "id": "b53c3bd7",
   "metadata": {},
   "source": []
  },
  {
   "cell_type": "code",
   "execution_count": 32,
   "id": "70d687e0",
   "metadata": {},
   "outputs": [
    {
     "name": "stdout",
     "output_type": "stream",
     "text": [
      "yes\n"
     ]
    }
   ],
   "source": [
    "name = \"bharath\"\n",
    "age = \"23\"\n",
    "if name== \"bharath\" and age==\"23\":##logical operator\n",
    "    print(\"yes\")\n",
    "else: \n",
    "    print(\"no\")"
   ]
  },
  {
   "cell_type": "code",
   "execution_count": 35,
   "id": "358c1371",
   "metadata": {},
   "outputs": [
    {
     "name": "stdout",
     "output_type": "stream",
     "text": [
      "yes\n"
     ]
    }
   ],
   "source": [
    "name=\"kiran\"\n",
    "age=\"23\"\n",
    "\n",
    "if name==\"bharath\" or age==\"23\":  ##intha place\n",
    "    print(\"yes\")\n",
    "elif name==\"kiran\":\n",
    "    print(\"kiran\")\n",
    "else:\n",
    "    print(\"no\")"
   ]
  },
  {
   "cell_type": "code",
   "execution_count": null,
   "id": "9e65d0e0",
   "metadata": {},
   "outputs": [],
   "source": [
    "## assignment la yes potukon da"
   ]
  }
 ],
 "metadata": {
  "kernelspec": {
   "display_name": "Python 3 (ipykernel)",
   "language": "python",
   "name": "python3"
  },
  "language_info": {
   "codemirror_mode": {
    "name": "ipython",
    "version": 3
   },
   "file_extension": ".py",
   "mimetype": "text/x-python",
   "name": "python",
   "nbconvert_exporter": "python",
   "pygments_lexer": "ipython3",
   "version": "3.9.13"
  }
 },
 "nbformat": 4,
 "nbformat_minor": 5
}
