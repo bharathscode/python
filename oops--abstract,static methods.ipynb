{
 "cells": [
  {
   "cell_type": "code",
   "execution_count": 1,
   "id": "a00cf2d7",
   "metadata": {},
   "outputs": [],
   "source": [
    "from abc import ABC ,abstractmethod"
   ]
  },
  {
   "cell_type": "code",
   "execution_count": 12,
   "id": "b7db1686",
   "metadata": {},
   "outputs": [],
   "source": [
    "class cook(ABC):\n",
    "    \n",
    "   \n",
    "    @abstractmethod     ##abstract -> to check the particular members of the class are printed before the code runs\n",
    "    def onion(self):\n",
    "        pass\n",
    "    @abstractmethod\n",
    "    def tomato(self):\n",
    "        pass\n",
    "    def test(self):\n",
    "        pass"
   ]
  },
  {
   "cell_type": "code",
   "execution_count": 13,
   "id": "c1915360",
   "metadata": {},
   "outputs": [],
   "source": [
    "class dish(cook):\n",
    "    def onion(self):\n",
    "        print(\"onion\")\n",
    "    \n",
    "    def tomato(self):\n",
    "        print(\"tomato\")\n",
    "    def veg(self):\n",
    "        print(\"veg\")\n",
    "    \n",
    "    def oil(self):\n",
    "        print(\"oil\")\n"
   ]
  },
  {
   "cell_type": "code",
   "execution_count": 11,
   "id": "8f88c2ad",
   "metadata": {},
   "outputs": [],
   "source": [
    "a=dish()\n"
   ]
  },
  {
   "cell_type": "code",
   "execution_count": 16,
   "id": "2c60bba2",
   "metadata": {},
   "outputs": [],
   "source": [
    "class dish(cook):\n",
    "    def onion(self):\n",
    "        print(\"onion\")\n",
    "    \n",
    "    def tomato(self):\n",
    "        print(\"tomato\")\n",
    "    def veg(self):\n",
    "        print(\"veg\")\n",
    "        \n",
    "    @staticmethod   ##to reduce loading \n",
    "    \n",
    "    def oil():\n",
    "        print(\"oil\")\n"
   ]
  },
  {
   "cell_type": "code",
   "execution_count": 15,
   "id": "20bcd59d",
   "metadata": {},
   "outputs": [
    {
     "name": "stdout",
     "output_type": "stream",
     "text": [
      "oil\n"
     ]
    }
   ],
   "source": [
    "dish.oil()"
   ]
  },
  {
   "cell_type": "code",
   "execution_count": null,
   "id": "9674b0b4",
   "metadata": {},
   "outputs": [],
   "source": []
  }
 ],
 "metadata": {
  "kernelspec": {
   "display_name": "Python 3 (ipykernel)",
   "language": "python",
   "name": "python3"
  },
  "language_info": {
   "codemirror_mode": {
    "name": "ipython",
    "version": 3
   },
   "file_extension": ".py",
   "mimetype": "text/x-python",
   "name": "python",
   "nbconvert_exporter": "python",
   "pygments_lexer": "ipython3",
   "version": "3.9.13"
  }
 },
 "nbformat": 4,
 "nbformat_minor": 5
}
