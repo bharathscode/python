{
 "cells": [
  {
   "cell_type": "code",
   "execution_count": 1,
   "id": "75caca50",
   "metadata": {},
   "outputs": [],
   "source": [
    "class car():\n",
    "    def engine(self): #method\n",
    "        print(\"car engine\")\n",
    "    def speed(self):\n",
    "        print(\"car speed\")\n",
    "        "
   ]
  },
  {
   "cell_type": "code",
   "execution_count": 2,
   "id": "d8134d40",
   "metadata": {},
   "outputs": [],
   "source": [
    "class truck():\n",
    "    def engine(self): #method\n",
    "        print(\"truck engine\")\n",
    "    def speed(self):\n",
    "        print(\"truck speed\")\n",
    "        "
   ]
  },
  {
   "cell_type": "code",
   "execution_count": 3,
   "id": "12843249",
   "metadata": {},
   "outputs": [
    {
     "name": "stdout",
     "output_type": "stream",
     "text": [
      "<__main__.car object at 0x0000020213D03E20>\n"
     ]
    }
   ],
   "source": [
    "a=car()\n",
    "print(a)"
   ]
  },
  {
   "cell_type": "code",
   "execution_count": 4,
   "id": "13f46288",
   "metadata": {},
   "outputs": [
    {
     "name": "stdout",
     "output_type": "stream",
     "text": [
      "car speed\n"
     ]
    }
   ],
   "source": [
    "a.speed()"
   ]
  },
  {
   "cell_type": "code",
   "execution_count": 6,
   "id": "27c6a4b0",
   "metadata": {},
   "outputs": [
    {
     "name": "stdout",
     "output_type": "stream",
     "text": [
      "<__main__.truck object at 0x0000020213D03B20>\n"
     ]
    }
   ],
   "source": [
    "b=truck()\n",
    "print(b)"
   ]
  },
  {
   "cell_type": "code",
   "execution_count": 7,
   "id": "d7f7ba8f",
   "metadata": {},
   "outputs": [
    {
     "name": "stdout",
     "output_type": "stream",
     "text": [
      "truck engine\n"
     ]
    }
   ],
   "source": [
    "b.engine()"
   ]
  },
  {
   "cell_type": "code",
   "execution_count": 34,
   "id": "d3c50b89",
   "metadata": {},
   "outputs": [],
   "source": [
    "class calculator():\n",
    "    def addition(self,a,b):#method\n",
    "        print(a+b)\n",
    "    def subs(self,a,b):\n",
    "        print(a-b)\n",
    "    def mul(self,a,b):\n",
    "        print(a*b)\n",
    "\n",
    "    def div(self,a,b):\n",
    "        \n",
    "        print(a/b)\n",
    "    \n",
    "        \n",
    "        \n",
    "\n",
    "        "
   ]
  },
  {
   "cell_type": "code",
   "execution_count": 35,
   "id": "74e08878",
   "metadata": {},
   "outputs": [
    {
     "name": "stdout",
     "output_type": "stream",
     "text": [
      "11\n",
      "1\n",
      "49\n",
      "4.0\n"
     ]
    }
   ],
   "source": [
    "a=calculator()\n",
    "a.addition(5,6)\n",
    "a.subs(6,5)\n",
    "a.mul(7,7)\n",
    "a.div(8,2)"
   ]
  },
  {
   "cell_type": "code",
   "execution_count": 36,
   "id": "85db46e4",
   "metadata": {},
   "outputs": [],
   "source": [
    "class hotel():\n",
    "    def place(self,floor):\n",
    "        if floor==1:\n",
    "            print(\"veg floor\")\n",
    "        elif floor==2:\n",
    "            print(\"non-veg floor\")\n",
    "    def dish(self,floor):\n",
    "        if floor==1:\n",
    "            print(\"veg biriyani\")\n",
    "        elif floor==2:\n",
    "            print(\"non-veg biriyani\")\n",
    "            "
   ]
  },
  {
   "cell_type": "code",
   "execution_count": 38,
   "id": "634f2140",
   "metadata": {},
   "outputs": [
    {
     "name": "stdout",
     "output_type": "stream",
     "text": [
      "veg floor\n",
      "veg biriyani\n"
     ]
    }
   ],
   "source": [
    "a=hotel()\n",
    "a.place(1)\n",
    "a.dish(1)"
   ]
  },
  {
   "cell_type": "code",
   "execution_count": 39,
   "id": "00e0d2e3",
   "metadata": {},
   "outputs": [
    {
     "name": "stdout",
     "output_type": "stream",
     "text": [
      "veg floor\n",
      "non-veg biriyani\n"
     ]
    }
   ],
   "source": [
    "a=hotel()\n",
    "a.place(1)\n",
    "a.dish(2)"
   ]
  },
  {
   "cell_type": "code",
   "execution_count": 2,
   "id": "8b6742dc",
   "metadata": {},
   "outputs": [],
   "source": [
    "##constructor -- is used to set a permanent data to avoid mistakes \n",
    "\n",
    "class hotel():\n",
    "    def __init__(self,floor): ## __init__ -> initialisation\n",
    "        self.floor=floor\n",
    "    def place(self):   \n",
    "        if self.floor==1:\n",
    "            print(\"veg floor\")\n",
    "        elif self.floor==2:\n",
    "            print(\"non-veg floor\")\n",
    "    def dish(self):\n",
    "        if self.floor==1:\n",
    "            print(\"veg biriyani\")\n",
    "        elif self.floor==2:\n",
    "            print(\"non-veg biriyani\")\n",
    "            "
   ]
  },
  {
   "cell_type": "code",
   "execution_count": 3,
   "id": "b57e254a",
   "metadata": {},
   "outputs": [
    {
     "name": "stdout",
     "output_type": "stream",
     "text": [
      "veg floor\n",
      "veg biriyani\n"
     ]
    }
   ],
   "source": [
    "a=hotel(1)\n",
    "a.place()\n",
    "a.dish()"
   ]
  },
  {
   "cell_type": "code",
   "execution_count": 4,
   "id": "06a49007",
   "metadata": {},
   "outputs": [
    {
     "name": "stdout",
     "output_type": "stream",
     "text": [
      "non-veg floor\n",
      "non-veg biriyani\n"
     ]
    }
   ],
   "source": [
    "b=hotel(2)\n",
    "b.place()\n",
    "b.dish()"
   ]
  },
  {
   "cell_type": "code",
   "execution_count": 1,
   "id": "7af06742",
   "metadata": {},
   "outputs": [
    {
     "ename": "SyntaxError",
     "evalue": "invalid syntax (2797091516.py, line 3)",
     "output_type": "error",
     "traceback": [
      "\u001b[1;36m  File \u001b[1;32m\"C:\\Users\\bhara\\AppData\\Local\\Temp\\ipykernel_13428\\2797091516.py\"\u001b[1;36m, line \u001b[1;32m3\u001b[0m\n\u001b[1;33m    a=gold rate(100)\u001b[0m\n\u001b[1;37m           ^\u001b[0m\n\u001b[1;31mSyntaxError\u001b[0m\u001b[1;31m:\u001b[0m invalid syntax\n"
     ]
    }
   ],
   "source": [
    "##using constructor build a program to calculate the gold rate according to the todays price\n",
    "\n",
    "a=gold rate(100)\n",
    "a.rate(5)\n",
    "a.rate(3)\n"
   ]
  },
  {
   "cell_type": "code",
   "execution_count": 29,
   "id": "29f2791d",
   "metadata": {},
   "outputs": [],
   "source": [
    "class gold_rate():\n",
    "    def __init__(self,rate): ## __init__ -> initialisation\n",
    "        self.rate==rate\n",
    "    def price(self,a):\n",
    "            if self.rate==1000:\n",
    "                    print(rate*a)\n",
    "            elif self.rate==2000:\n",
    "                    print(rate*a)\n",
    "            \n",
    "    "
   ]
  },
  {
   "cell_type": "code",
   "execution_count": 31,
   "id": "75334d4e",
   "metadata": {},
   "outputs": [
    {
     "ename": "AttributeError",
     "evalue": "'gold_rate' object has no attribute 'rate'",
     "output_type": "error",
     "traceback": [
      "\u001b[1;31m---------------------------------------------------------------------------\u001b[0m",
      "\u001b[1;31mAttributeError\u001b[0m                            Traceback (most recent call last)",
      "\u001b[1;32m~\\AppData\\Local\\Temp\\ipykernel_10232\\1601444716.py\u001b[0m in \u001b[0;36m<module>\u001b[1;34m\u001b[0m\n\u001b[1;32m----> 1\u001b[1;33m \u001b[0ma\u001b[0m\u001b[1;33m=\u001b[0m\u001b[0mgold_rate\u001b[0m\u001b[1;33m(\u001b[0m\u001b[1;36m1000\u001b[0m\u001b[1;33m)\u001b[0m\u001b[1;33m\u001b[0m\u001b[1;33m\u001b[0m\u001b[0m\n\u001b[0m\u001b[0;32m      2\u001b[0m \u001b[0ma\u001b[0m\u001b[1;33m.\u001b[0m\u001b[0mprice\u001b[0m\u001b[1;33m(\u001b[0m\u001b[1;33m)\u001b[0m\u001b[1;33m\u001b[0m\u001b[1;33m\u001b[0m\u001b[0m\n",
      "\u001b[1;32m~\\AppData\\Local\\Temp\\ipykernel_10232\\4249624594.py\u001b[0m in \u001b[0;36m__init__\u001b[1;34m(self, rate)\u001b[0m\n\u001b[0;32m      1\u001b[0m \u001b[1;32mclass\u001b[0m \u001b[0mgold_rate\u001b[0m\u001b[1;33m(\u001b[0m\u001b[1;33m)\u001b[0m\u001b[1;33m:\u001b[0m\u001b[1;33m\u001b[0m\u001b[1;33m\u001b[0m\u001b[0m\n\u001b[0;32m      2\u001b[0m     \u001b[1;32mdef\u001b[0m \u001b[0m__init__\u001b[0m\u001b[1;33m(\u001b[0m\u001b[0mself\u001b[0m\u001b[1;33m,\u001b[0m\u001b[0mrate\u001b[0m\u001b[1;33m)\u001b[0m\u001b[1;33m:\u001b[0m \u001b[1;31m## __init__ -> initialisation\u001b[0m\u001b[1;33m\u001b[0m\u001b[1;33m\u001b[0m\u001b[0m\n\u001b[1;32m----> 3\u001b[1;33m         \u001b[0mself\u001b[0m\u001b[1;33m.\u001b[0m\u001b[0mrate\u001b[0m\u001b[1;33m==\u001b[0m\u001b[0mrate\u001b[0m\u001b[1;33m\u001b[0m\u001b[1;33m\u001b[0m\u001b[0m\n\u001b[0m\u001b[0;32m      4\u001b[0m     \u001b[1;32mdef\u001b[0m \u001b[0mprice\u001b[0m\u001b[1;33m(\u001b[0m\u001b[0mself\u001b[0m\u001b[1;33m,\u001b[0m\u001b[0ma\u001b[0m\u001b[1;33m)\u001b[0m\u001b[1;33m:\u001b[0m\u001b[1;33m\u001b[0m\u001b[1;33m\u001b[0m\u001b[0m\n\u001b[0;32m      5\u001b[0m             \u001b[1;32mif\u001b[0m \u001b[0mself\u001b[0m\u001b[1;33m.\u001b[0m\u001b[0mrate\u001b[0m\u001b[1;33m==\u001b[0m\u001b[1;36m1000\u001b[0m\u001b[1;33m:\u001b[0m\u001b[1;33m\u001b[0m\u001b[1;33m\u001b[0m\u001b[0m\n",
      "\u001b[1;31mAttributeError\u001b[0m: 'gold_rate' object has no attribute 'rate'"
     ]
    }
   ],
   "source": [
    "a=gold_rate(1000)\n",
    "a.price()"
   ]
  },
  {
   "cell_type": "code",
   "execution_count": null,
   "id": "c0f4a2e3",
   "metadata": {},
   "outputs": [],
   "source": []
  },
  {
   "cell_type": "code",
   "execution_count": null,
   "id": "d7de8284",
   "metadata": {},
   "outputs": [],
   "source": []
  }
 ],
 "metadata": {
  "kernelspec": {
   "display_name": "Python 3 (ipykernel)",
   "language": "python",
   "name": "python3"
  },
  "language_info": {
   "codemirror_mode": {
    "name": "ipython",
    "version": 3
   },
   "file_extension": ".py",
   "mimetype": "text/x-python",
   "name": "python",
   "nbconvert_exporter": "python",
   "pygments_lexer": "ipython3",
   "version": "3.9.13"
  }
 },
 "nbformat": 4,
 "nbformat_minor": 5
}
